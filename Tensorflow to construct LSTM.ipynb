{
 "cells": [
  {
   "cell_type": "code",
   "execution_count": 1,
   "metadata": {
    "collapsed": true
   },
   "outputs": [],
   "source": [
    "import numpy as np\n",
    "\n",
    "import pandas as pd\n",
    "import tushare as ts # collect data\n",
    "import matplotlib.pyplot as plt\n"
   ]
  },
  {
   "cell_type": "code",
   "execution_count": 2,
   "metadata": {
    "collapsed": true
   },
   "outputs": [],
   "source": [
    "import tensorflow as tf\n",
    "\n",
    "import matplotlib.pyplot as plt\n",
    "from sklearn.preprocessing import StandardScaler\n",
    "%matplotlib inline"
   ]
  },
  {
   "cell_type": "code",
   "execution_count": null,
   "metadata": {
    "collapsed": true
   },
   "outputs": [],
   "source": []
  },
  {
   "cell_type": "code",
   "execution_count": 3,
   "metadata": {
    "collapsed": false
   },
   "outputs": [
    {
     "name": "stdout",
     "output_type": "stream",
     "text": [
      "mean=0.0008377491666733144,  std=0.018001933037586113\n",
      " sz50 skewness =-0.622373111042389 ;kurtosis = 5.819173088242997 \n"
     ]
    },
    {
     "data": {
      "image/png": "[encoded data removed]",
      "text/plain": [
       "<matplotlib.figure.Figure at 0x7f80cd870cc0>"
      ]
     },
     "metadata": {},
     "output_type": "display_data"
    }
   ],
   "source": [
    "data=ts.get_hist_data('sz50',ktype='d',start='2000-10-01',end=\"2017-10-01\")\n",
    "# data[:2]\n",
    "close_rate=(data.close-data.close.shift(-1))/data.close.shift(-1)\n",
    "plt.hist(close_rate.dropna(),bins=50)\n",
    "data=data[::-1]\n",
    "\n",
    "print(\"mean={},  std={}\".format(close_rate.mean(),close_rate.std()))\n",
    "print(' {} skewness ={} ;kurtosis = {} '.format('sz50',close_rate.skew(),close_rate.kurtosis()))\n",
    "\n"
   ]
  },
  {
   "cell_type": "code",
   "execution_count": 4,
   "metadata": {
    "collapsed": false,
    "scrolled": true
   },
   "outputs": [
    {
     "data": {
      "text/html": [
       "<div>\n",
       "<table border=\"1\" class=\"dataframe\">\n",
       "  <thead>\n",
       "    <tr style=\"text-align: right;\">\n",
       "      <th></th>\n",
       "      <th>open</th>\n",
       "      <th>high</th>\n",
       "      <th>close</th>\n",
       "      <th>low</th>\n",
       "      <th>volume</th>\n",
       "      <th>price_change</th>\n",
       "      <th>p_change</th>\n",
       "      <th>ma5</th>\n",
       "      <th>ma10</th>\n",
       "      <th>ma20</th>\n",
       "      <th>v_ma5</th>\n",
       "      <th>v_ma10</th>\n",
       "      <th>v_ma20</th>\n",
       "    </tr>\n",
       "    <tr>\n",
       "      <th>date</th>\n",
       "      <th></th>\n",
       "      <th></th>\n",
       "      <th></th>\n",
       "      <th></th>\n",
       "      <th></th>\n",
       "      <th></th>\n",
       "      <th></th>\n",
       "      <th></th>\n",
       "      <th></th>\n",
       "      <th></th>\n",
       "      <th></th>\n",
       "      <th></th>\n",
       "      <th></th>\n",
       "    </tr>\n",
       "  </thead>\n",
       "  <tbody>\n",
       "    <tr>\n",
       "      <th>2014-11-03</th>\n",
       "      <td>1662.748</td>\n",
       "      <td>1664.432</td>\n",
       "      <td>1651.052</td>\n",
       "      <td>1646.434</td>\n",
       "      <td>589474.25</td>\n",
       "      <td>-6.234</td>\n",
       "      <td>-0.38</td>\n",
       "      <td>1651.052</td>\n",
       "      <td>1651.052</td>\n",
       "      <td>1651.052</td>\n",
       "      <td>589474.25</td>\n",
       "      <td>589474.25</td>\n",
       "      <td>589474.25</td>\n",
       "    </tr>\n",
       "    <tr>\n",
       "      <th>2014-11-04</th>\n",
       "      <td>1648.112</td>\n",
       "      <td>1650.808</td>\n",
       "      <td>1645.624</td>\n",
       "      <td>1639.678</td>\n",
       "      <td>583892.94</td>\n",
       "      <td>-5.428</td>\n",
       "      <td>-0.33</td>\n",
       "      <td>1648.338</td>\n",
       "      <td>1648.338</td>\n",
       "      <td>1648.338</td>\n",
       "      <td>586683.60</td>\n",
       "      <td>586683.60</td>\n",
       "      <td>586683.60</td>\n",
       "    </tr>\n",
       "  </tbody>\n",
       "</table>\n",
       "</div>"
      ],
      "text/plain": [
       "                open      high     close       low     volume  price_change  \\\n",
       "date                                                                          \n",
       "2014-11-03  1662.748  1664.432  1651.052  1646.434  589474.25        -6.234   \n",
       "2014-11-04  1648.112  1650.808  1645.624  1639.678  583892.94        -5.428   \n",
       "\n",
       "            p_change       ma5      ma10      ma20      v_ma5     v_ma10  \\\n",
       "date                                                                       \n",
       "2014-11-03     -0.38  1651.052  1651.052  1651.052  589474.25  589474.25   \n",
       "2014-11-04     -0.33  1648.338  1648.338  1648.338  586683.60  586683.60   \n",
       "\n",
       "               v_ma20  \n",
       "date                   \n",
       "2014-11-03  589474.25  \n",
       "2014-11-04  586683.60  "
      ]
     },
     "execution_count": 4,
     "metadata": {},
     "output_type": "execute_result"
    }
   ],
   "source": [
    "data.head(2)"
   ]
  },
  {
   "cell_type": "markdown",
   "metadata": {},
   "source": [
    "# magic code"
   ]
  },
  {
   "cell_type": "code",
   "execution_count": 5,
   "metadata": {
    "collapsed": false,
    "scrolled": true
   },
   "outputs": [],
   "source": [
    "##########################\n",
    "\n",
    "\n",
    "data_to_computed=data[-2000:]\n",
    "\n",
    "##########################\n",
    "\n"
   ]
  },
  {
   "cell_type": "markdown",
   "metadata": {},
   "source": [
    "# clear data"
   ]
  },
  {
   "cell_type": "code",
   "execution_count": 6,
   "metadata": {
    "collapsed": false
   },
   "outputs": [],
   "source": [
    "close=data_to_computed.close\n",
    "\n",
    "close=close.values.reshape(-1,1)"
   ]
  },
  {
   "cell_type": "code",
   "execution_count": 7,
   "metadata": {
    "collapsed": false,
    "scrolled": true
   },
   "outputs": [
    {
     "data": {
      "text/plain": [
       "date\n",
       "2014-11-03    1651.052\n",
       "2014-11-04    1645.624\n",
       "2014-11-05    1637.625\n",
       "2014-11-06    1635.964\n",
       "Name: close, dtype: float64"
      ]
     },
     "execution_count": 7,
     "metadata": {},
     "output_type": "execute_result"
    }
   ],
   "source": [
    "data.close[:4]"
   ]
  },
  {
   "cell_type": "code",
   "execution_count": 8,
   "metadata": {
    "collapsed": false,
    "scrolled": false
   },
   "outputs": [
    {
     "data": {
      "text/plain": [
       "array([[ 1651.052],\n",
       "       [ 1645.624],\n",
       "       [ 1637.625],\n",
       "       [ 1635.964]])"
      ]
     },
     "execution_count": 8,
     "metadata": {},
     "output_type": "execute_result"
    }
   ],
   "source": [
    "close[:4]"
   ]
  },
  {
   "cell_type": "code",
   "execution_count": 9,
   "metadata": {
    "collapsed": true
   },
   "outputs": [],
   "source": [
    "train_number=int(  len(close) *0.8  )"
   ]
  },
  {
   "cell_type": "code",
   "execution_count": 10,
   "metadata": {
    "collapsed": false
   },
   "outputs": [],
   "source": [
    "close_train=close[:train_number]\n",
    "\n",
    "close_test=close[train_number:]"
   ]
  },
  {
   "cell_type": "code",
   "execution_count": 11,
   "metadata": {
    "collapsed": false
   },
   "outputs": [
    {
     "data": {
      "text/plain": [
       "(143, 1)"
      ]
     },
     "execution_count": 11,
     "metadata": {},
     "output_type": "execute_result"
    }
   ],
   "source": [
    "close_test.shape"
   ]
  },
  {
   "cell_type": "code",
   "execution_count": null,
   "metadata": {
    "collapsed": false
   },
   "outputs": [],
   "source": []
  },
  {
   "cell_type": "code",
   "execution_count": 12,
   "metadata": {
    "collapsed": false
   },
   "outputs": [],
   "source": [
    "train_data_scaler = StandardScaler()  \n",
    "train_data_scaler.fit(close_train)\n",
    "scaled_traindata=train_data_scaler.transform(close_train)"
   ]
  },
  {
   "cell_type": "code",
   "execution_count": 13,
   "metadata": {
    "collapsed": false
   },
   "outputs": [
    {
     "data": {
      "image/png": "[encoded data removed]",
      "text/plain": [
       "<matplotlib.figure.Figure at 0x7f806df350f0>"
      ]
     },
     "metadata": {},
     "output_type": "display_data"
    }
   ],
   "source": [
    "# plt.figure(figsize=(12,7), frameon=False, facecolor='brown', edgecolor='blue')\n",
    "plt.title('Scaled sz50 index  ')\n",
    "plt.xlabel('Weeks')\n",
    "plt.ylabel('Scaled index value of stocks')\n",
    "plt.plot(scaled_traindata, label='Stocks data')\n",
    "plt.legend()\n",
    "plt.show()"
   ]
  },
  {
   "cell_type": "code",
   "execution_count": 14,
   "metadata": {
    "collapsed": true
   },
   "outputs": [],
   "source": [
    "\n",
    "def window_data(data, window_size):\n",
    "    X = []\n",
    "    y = []\n",
    "    \n",
    "    i = 0\n",
    "    while (i + window_size) <= len(data) - 1:\n",
    "        X.append(data[i:i+window_size])\n",
    "        y.append(data[i+window_size])\n",
    "        \n",
    "        i += 1\n",
    "    assert len(X) ==  len(y)\n",
    "    return X, y"
   ]
  },
  {
   "cell_type": "code",
   "execution_count": 15,
   "metadata": {
    "collapsed": true
   },
   "outputs": [],
   "source": [
    "X, y = window_data(scaled_traindata, 7)"
   ]
  },
  {
   "cell_type": "code",
   "execution_count": 16,
   "metadata": {
    "collapsed": false,
    "scrolled": true
   },
   "outputs": [],
   "source": [
    "\n",
    "scaled_traindata_test=train_data_scaler.transform(close_test)\n",
    "\n",
    "X_test,y_test=window_data(scaled_traindata_test,7)"
   ]
  },
  {
   "cell_type": "code",
   "execution_count": 17,
   "metadata": {
    "collapsed": false,
    "scrolled": true
   },
   "outputs": [
    {
     "name": "stdout",
     "output_type": "stream",
     "text": [
      "X_train size: (565, 7, 1)\n",
      "y_train size: (565, 1)\n",
      "X_test size: (136, 7, 1)\n",
      "y_test size: (136, 1)\n"
     ]
    }
   ],
   "source": [
    "\n",
    "X_train  = np.array(X)\n",
    "y_train = np.array(y)\n",
    "\n",
    "X_test = np.array(X_test)\n",
    "y_test = np.array(y_test)\n",
    "\n",
    "print(\"X_train size: {}\".format(X_train.shape))\n",
    "print(\"y_train size: {}\".format(y_train.shape))\n",
    "print(\"X_test size: {}\".format(X_test.shape))\n",
    "print(\"y_test size: {}\".format(y_test.shape))"
   ]
  },
  {
   "cell_type": "code",
   "execution_count": null,
   "metadata": {
    "collapsed": false
   },
   "outputs": [],
   "source": []
  },
  {
   "cell_type": "markdown",
   "metadata": {},
   "source": [
    "# LSTM"
   ]
  },
  {
   "cell_type": "code",
   "execution_count": 18,
   "metadata": {
    "collapsed": true
   },
   "outputs": [],
   "source": [
    "def p_tf(tf_varible):\n",
    "    with tf.Session():\n",
    "        return (tf_varible.eval())"
   ]
  },
  {
   "cell_type": "code",
   "execution_count": 19,
   "metadata": {
    "collapsed": true
   },
   "outputs": [],
   "source": [
    "epochs = 200\n",
    "batch_size = 7"
   ]
  },
  {
   "cell_type": "code",
   "execution_count": 20,
   "metadata": {
    "collapsed": true
   },
   "outputs": [],
   "source": [
    "def LSTM_cell(hidden_layer_size, batch_size,number_of_layers, dropout=True, dropout_rate=0.8):\n",
    "    \n",
    "    layer = tf.contrib.rnn.BasicLSTMCell(hidden_layer_size)\n",
    "    \n",
    "    if dropout:\n",
    "        layer = tf.contrib.rnn.DropoutWrapper(layer, output_keep_prob=dropout_rate)\n",
    "        \n",
    "    cell = tf.contrib.rnn.MultiRNNCell([layer]*number_of_layers)\n",
    "    \n",
    "    init_state = cell.zero_state(batch_size, tf.float32)\n",
    "    \n",
    "    return cell, init_state"
   ]
  },
  {
   "cell_type": "code",
   "execution_count": 21,
   "metadata": {
    "collapsed": true
   },
   "outputs": [],
   "source": [
    "def output_layer(lstm_output, in_size, out_size):\n",
    "    \n",
    "    x = lstm_output[:, -1, :]\n",
    "    print(x)\n",
    "    weights = tf.Variable(tf.truncated_normal([in_size, out_size], stddev=0.05), name='output_layer_weights')\n",
    "    bias = tf.Variable(tf.zeros([out_size]), name='output_layer_bias')\n",
    "    \n",
    "    output = tf.matmul(x, weights) + bias\n",
    "    \n",
    "    return output"
   ]
  },
  {
   "cell_type": "code",
   "execution_count": 22,
   "metadata": {
    "collapsed": false,
    "scrolled": true
   },
   "outputs": [],
   "source": [
    "def opt_loss(logits, targets, learning_rate, grad_clip_margin):\n",
    "    \n",
    "    losses = []\n",
    "    for i in range(targets.get_shape()[0]):\n",
    "        losses.append([(tf.pow(logits[i] - targets[i], 2))])\n",
    "        \n",
    "    loss = tf.reduce_sum(losses)/(2*batch_size)\n",
    "    \n",
    "    #Cliping the gradient loss\n",
    "    gradients = tf.gradients(loss, tf.trainable_variables())\n",
    "    clipper_, _ = tf.clip_by_global_norm(gradients, grad_clip_margin)\n",
    "    optimizer = tf.train.AdamOptimizer(learning_rate)\n",
    "    train_optimizer = optimizer.apply_gradients(zip(gradients, tf.trainable_variables()))\n",
    "    return loss, train_optimizer"
   ]
  },
  {
   "cell_type": "code",
   "execution_count": 23,
   "metadata": {
    "collapsed": true
   },
   "outputs": [],
   "source": [
    "class StockPredictionRNN(object):\n",
    "    \n",
    "    def __init__(self, \n",
    "                 learning_rate=0.001, \n",
    "                 batch_size=7, \n",
    "                 hidden_layer_size=512, \n",
    "                 number_of_layers=1, \n",
    "                 dropout=True, \n",
    "                 dropout_rate=0.8, \n",
    "                 number_of_classes=1, \n",
    "                 gradient_clip_margin=4, \n",
    "                 window_size=7):\n",
    "    \n",
    "        self.inputs = tf.placeholder(tf.float32, [batch_size, window_size, 1], name='input_data')\n",
    "        self.targets = tf.placeholder(tf.float32, [batch_size, 1], name='targets')\n",
    "\n",
    "        cell, init_state = LSTM_cell(hidden_layer_size, batch_size, number_of_layers, dropout, dropout_rate)\n",
    "\n",
    "        outputs, states = tf.nn.dynamic_rnn(cell, self.inputs, initial_state=init_state)\n",
    "\n",
    "        self.logits = output_layer(outputs, hidden_layer_size, number_of_classes)\n",
    "\n",
    "        self.loss, self.opt = opt_loss(self.logits, self.targets, learning_rate, gradient_clip_margin)"
   ]
  },
  {
   "cell_type": "code",
   "execution_count": 24,
   "metadata": {
    "collapsed": false
   },
   "outputs": [
    {
     "name": "stdout",
     "output_type": "stream",
     "text": [
      "Tensor(\"strided_slice:0\", shape=(7, 512), dtype=float32)\n"
     ]
    }
   ],
   "source": [
    "\n",
    "tf.reset_default_graph()\n",
    "model = StockPredictionRNN()"
   ]
  },
  {
   "cell_type": "code",
   "execution_count": 25,
   "metadata": {
    "collapsed": true
   },
   "outputs": [],
   "source": [
    "session =  tf.Session()\n",
    "session.run(tf.global_variables_initializer())"
   ]
  },
  {
   "cell_type": "code",
   "execution_count": 26,
   "metadata": {
    "collapsed": false
   },
   "outputs": [
    {
     "name": "stdout",
     "output_type": "stream",
     "text": [
      "Epoch 0/200  Current loss: 0.07931798696517944\n",
      "Epoch 30/200  Current loss: 0.017933223396539688\n",
      "Epoch 60/200  Current loss: 0.0167212076485157\n",
      "Epoch 90/200  Current loss: 0.013727620244026184\n",
      "Epoch 120/200  Current loss: 0.011852608993649483\n",
      "Epoch 150/200  Current loss: 0.011228008195757866\n",
      "Epoch 180/200  Current loss: 0.011152224615216255\n"
     ]
    }
   ],
   "source": [
    "for i in range(epochs):\n",
    "    traind_scores = []\n",
    "    ii = 0\n",
    "    epoch_loss = []\n",
    "    while(ii + batch_size) <= len(X_train):\n",
    "        X_batch = X_train[ii:ii+batch_size]\n",
    "        y_batch = y_train[ii:ii+batch_size]\n",
    "        \n",
    "        o, c, _ = session.run([model.logits, model.loss, model.opt], feed_dict={model.inputs:X_batch, model.targets:y_batch})\n",
    "        \n",
    "        epoch_loss.append(c)\n",
    "        traind_scores.append(o)\n",
    "        ii += batch_size\n",
    "    if (i % 30) == 0:\n",
    "        print('Epoch {}/{}'.format(i, epochs), ' Current loss: {}'.format(np.mean(epoch_loss)))"
   ]
  },
  {
   "cell_type": "code",
   "execution_count": 27,
   "metadata": {
    "collapsed": true
   },
   "outputs": [],
   "source": [
    "sup =[]\n",
    "for i in range(len(traind_scores)):\n",
    "    for j in range(len(traind_scores[i])):\n",
    "        sup.append(traind_scores[i][j])"
   ]
  },
  {
   "cell_type": "code",
   "execution_count": 28,
   "metadata": {
    "collapsed": false
   },
   "outputs": [
    {
     "data": {
      "text/plain": [
       "136"
      ]
     },
     "execution_count": 28,
     "metadata": {},
     "output_type": "execute_result"
    }
   ],
   "source": [
    "len(X_test)"
   ]
  },
  {
   "cell_type": "code",
   "execution_count": 29,
   "metadata": {
    "collapsed": true
   },
   "outputs": [],
   "source": [
    "tests = []\n",
    "i = 0\n",
    "while i+batch_size <= len(X_test):\n",
    "    \n",
    "    o = session.run([model.logits], feed_dict={model.inputs:X_test[i:i+batch_size]})\n",
    "    i += batch_size\n",
    "    tests.append(o)\n"
   ]
  },
  {
   "cell_type": "code",
   "execution_count": 30,
   "metadata": {
    "collapsed": false,
    "scrolled": false
   },
   "outputs": [],
   "source": [
    "tests_new = []\n",
    "for i in range(len(tests)):\n",
    "    for j in range(len(tests[i][0])):\n",
    "        tests_new.append(tests[i][0][j])"
   ]
  },
  {
   "cell_type": "code",
   "execution_count": 31,
   "metadata": {
    "collapsed": false,
    "scrolled": false
   },
   "outputs": [
    {
     "data": {
      "text/plain": [
       "133"
      ]
     },
     "execution_count": 31,
     "metadata": {},
     "output_type": "execute_result"
    }
   ],
   "source": [
    "tests_new.__len__()"
   ]
  },
  {
   "cell_type": "code",
   "execution_count": 32,
   "metadata": {
    "collapsed": false,
    "scrolled": true
   },
   "outputs": [
    {
     "data": {
      "text/plain": [
       "[array([ 0.02360817], dtype=float32),\n",
       " array([-0.06789976], dtype=float32),\n",
       " array([-0.05311275], dtype=float32),\n",
       " array([-0.00301455], dtype=float32),\n",
       " array([-0.10861309], dtype=float32),\n",
       " array([-0.05664393], dtype=float32),\n",
       " array([ 0.01990384], dtype=float32),\n",
       " array([-0.00644691], dtype=float32),\n",
       " array([-0.04037355], dtype=float32),\n",
       " array([-0.0258697], dtype=float32),\n",
       " array([-0.07011548], dtype=float32),\n",
       " array([-0.04027581], dtype=float32),\n",
       " array([ 0.05527591], dtype=float32),\n",
       " array([ 0.07538919], dtype=float32),\n",
       " array([ 0.07494057], dtype=float32),\n",
       " array([ 0.03593262], dtype=float32),\n",
       " array([ 0.03050978], dtype=float32),\n",
       " array([ 0.00918463], dtype=float32),\n",
       " array([-0.00823495], dtype=float32),\n",
       " array([-0.0348857], dtype=float32),\n",
       " array([-0.0522978], dtype=float32),\n",
       " array([-0.11237681], dtype=float32),\n",
       " array([-0.1139781], dtype=float32),\n",
       " array([-0.07792844], dtype=float32),\n",
       " array([-0.04719502], dtype=float32),\n",
       " array([-0.09025732], dtype=float32),\n",
       " array([-0.05043207], dtype=float32),\n",
       " array([-0.06312555], dtype=float32),\n",
       " array([-0.0469411], dtype=float32),\n",
       " array([-0.06542781], dtype=float32),\n",
       " array([-0.08724093], dtype=float32),\n",
       " array([-0.11089237], dtype=float32),\n",
       " array([-0.09137766], dtype=float32),\n",
       " array([-0.13845116], dtype=float32),\n",
       " array([-0.11591324], dtype=float32),\n",
       " array([-0.14650169], dtype=float32),\n",
       " array([-0.08983886], dtype=float32),\n",
       " array([-0.0695397], dtype=float32),\n",
       " array([ 0.04497489], dtype=float32),\n",
       " array([ 0.05399734], dtype=float32),\n",
       " array([ 0.05721945], dtype=float32),\n",
       " array([-0.01486263], dtype=float32),\n",
       " array([-0.06597021], dtype=float32),\n",
       " array([-0.04127337], dtype=float32),\n",
       " array([ 0.02276863], dtype=float32),\n",
       " array([ 0.14433503], dtype=float32),\n",
       " array([ 0.13899013], dtype=float32),\n",
       " array([ 0.33654332], dtype=float32),\n",
       " array([ 0.2899693], dtype=float32),\n",
       " array([ 0.2962676], dtype=float32),\n",
       " array([ 0.37019706], dtype=float32),\n",
       " array([ 0.23133488], dtype=float32),\n",
       " array([ 0.14522512], dtype=float32),\n",
       " array([ 0.26515186], dtype=float32),\n",
       " array([ 0.28552482], dtype=float32),\n",
       " array([ 0.37264335], dtype=float32),\n",
       " array([ 0.39796358], dtype=float32),\n",
       " array([ 0.45981395], dtype=float32),\n",
       " array([ 0.38265148], dtype=float32),\n",
       " array([ 0.27465215], dtype=float32),\n",
       " array([ 0.21290115], dtype=float32),\n",
       " array([ 0.14694652], dtype=float32),\n",
       " array([ 0.28427356], dtype=float32),\n",
       " array([ 0.2616969], dtype=float32),\n",
       " array([ 0.36344767], dtype=float32),\n",
       " array([ 0.42177197], dtype=float32),\n",
       " array([ 0.4268598], dtype=float32),\n",
       " array([ 0.51228559], dtype=float32),\n",
       " array([ 0.51176852], dtype=float32),\n",
       " array([ 0.40737936], dtype=float32),\n",
       " array([ 0.4850705], dtype=float32),\n",
       " array([ 0.46058816], dtype=float32),\n",
       " array([ 0.40157002], dtype=float32),\n",
       " array([ 0.36755711], dtype=float32),\n",
       " array([ 0.43785262], dtype=float32),\n",
       " array([ 0.4560439], dtype=float32),\n",
       " array([ 0.43367264], dtype=float32),\n",
       " array([ 0.53931463], dtype=float32),\n",
       " array([ 0.53644443], dtype=float32),\n",
       " array([ 0.43272504], dtype=float32),\n",
       " array([ 0.66659784], dtype=float32),\n",
       " array([ 0.74431044], dtype=float32),\n",
       " array([ 0.73824334], dtype=float32),\n",
       " array([ 0.70542443], dtype=float32),\n",
       " array([ 0.81250262], dtype=float32),\n",
       " array([ 0.71457338], dtype=float32),\n",
       " array([ 0.69159067], dtype=float32),\n",
       " array([ 0.81147885], dtype=float32),\n",
       " array([ 0.67910457], dtype=float32),\n",
       " array([ 0.55390048], dtype=float32),\n",
       " array([ 0.73005205], dtype=float32),\n",
       " array([ 0.75494635], dtype=float32),\n",
       " array([ 0.67746687], dtype=float32),\n",
       " array([ 0.88783652], dtype=float32),\n",
       " array([ 0.89156353], dtype=float32),\n",
       " array([ 0.79696918], dtype=float32),\n",
       " array([ 0.73789185], dtype=float32),\n",
       " array([ 0.69205797], dtype=float32),\n",
       " array([ 0.58095753], dtype=float32),\n",
       " array([ 0.63220495], dtype=float32),\n",
       " array([ 0.67221922], dtype=float32),\n",
       " array([ 0.51060224], dtype=float32),\n",
       " array([ 0.54536438], dtype=float32),\n",
       " array([ 0.5572716], dtype=float32),\n",
       " array([ 0.60844243], dtype=float32),\n",
       " array([ 0.67948759], dtype=float32),\n",
       " array([ 0.69686669], dtype=float32),\n",
       " array([ 0.59264481], dtype=float32),\n",
       " array([ 0.69180393], dtype=float32),\n",
       " array([ 0.78987473], dtype=float32),\n",
       " array([ 0.72034514], dtype=float32),\n",
       " array([ 0.9878692], dtype=float32),\n",
       " array([ 1.09392118], dtype=float32),\n",
       " array([ 0.90838617], dtype=float32),\n",
       " array([ 1.01941693], dtype=float32),\n",
       " array([ 0.99379921], dtype=float32),\n",
       " array([ 0.79240441], dtype=float32),\n",
       " array([ 0.75433683], dtype=float32),\n",
       " array([ 0.98594582], dtype=float32),\n",
       " array([ 0.98548084], dtype=float32),\n",
       " array([ 0.91938537], dtype=float32),\n",
       " array([ 0.86776489], dtype=float32),\n",
       " array([ 0.70232189], dtype=float32),\n",
       " array([ 0.76176476], dtype=float32),\n",
       " array([ 0.76077843], dtype=float32),\n",
       " array([ 0.78239727], dtype=float32),\n",
       " array([ 0.80190617], dtype=float32),\n",
       " array([ 0.857059], dtype=float32),\n",
       " array([ 0.71415538], dtype=float32),\n",
       " array([ 0.86258221], dtype=float32),\n",
       " array([ 0.85197425], dtype=float32),\n",
       " array([ 0.79112601], dtype=float32),\n",
       " array([ 0.82942116], dtype=float32)]"
      ]
     },
     "execution_count": 32,
     "metadata": {},
     "output_type": "execute_result"
    }
   ],
   "source": [
    "tests_new"
   ]
  },
  {
   "cell_type": "code",
   "execution_count": 33,
   "metadata": {
    "collapsed": false
   },
   "outputs": [
    {
     "data": {
      "text/plain": [
       "560"
      ]
     },
     "execution_count": 33,
     "metadata": {},
     "output_type": "execute_result"
    }
   ],
   "source": [
    "len(sup)"
   ]
  },
  {
   "cell_type": "code",
   "execution_count": 34,
   "metadata": {
    "collapsed": false,
    "scrolled": true
   },
   "outputs": [],
   "source": [
    "test_results = []\n",
    "\n",
    "all_data_number=len(sup)+len(tests_new)\n",
    "for i in range(all_data_number):\n",
    "    \n",
    "    test_start=len(sup)\n",
    "    \n",
    "    if i >=test_start :\n",
    "\n",
    "        test_results.append(tests_new[i-test_start])\n",
    "    else:\n",
    "        test_results.append(None)\n"
   ]
  },
  {
   "cell_type": "code",
   "execution_count": 35,
   "metadata": {
    "collapsed": true
   },
   "outputs": [],
   "source": [
    "# # plt.figure(figsize=(16, 7)) \n",
    "# plt.plot(scaled_traindata, label='ALL data')\n",
    "# plt.plot(sup, label='Training data')\n",
    "# plt.plot(test_results, label='Testing data')\n",
    "# plt.ylabel('scaled close')\n",
    "# plt.xlabel('number of data points')\n",
    "# plt.legend()\n",
    "# plt.show()"
   ]
  },
  {
   "cell_type": "code",
   "execution_count": 41,
   "metadata": {
    "collapsed": false
   },
   "outputs": [
    {
     "data": {
      "image/png": "[encoded data removed]",
      "text/plain": [
       "<matplotlib.figure.Figure at 0x7f803c79f470>"
      ]
     },
     "metadata": {},
     "output_type": "display_data"
    }
   ],
   "source": [
    "# plt.figure(figsize=(16, 7)) \n",
    "plt.plot(scaled_traindata, label='train data')\n",
    "plt.plot(sup, label='Training data estimate')\n",
    "# plt.plot(test_results, label='Testing data')\n",
    "plt.ylabel('scaled close')\n",
    "plt.xlabel('number of data points')\n",
    "plt.legend()\n",
    "plt.show()"
   ]
  },
  {
   "cell_type": "code",
   "execution_count": 49,
   "metadata": {
    "collapsed": false,
    "scrolled": true
   },
   "outputs": [
    {
     "data": {
      "text/plain": [
       "136"
      ]
     },
     "execution_count": 49,
     "metadata": {},
     "output_type": "execute_result"
    }
   ],
   "source": [
    "len(y_test)"
   ]
  },
  {
   "cell_type": "code",
   "execution_count": 47,
   "metadata": {
    "collapsed": false,
    "scrolled": false
   },
   "outputs": [
    {
     "data": {
      "text/plain": [
       "133"
      ]
     },
     "execution_count": 47,
     "metadata": {},
     "output_type": "execute_result"
    }
   ],
   "source": [
    "len(tests_new)"
   ]
  },
  {
   "cell_type": "code",
   "execution_count": 50,
   "metadata": {
    "collapsed": false
   },
   "outputs": [
    {
     "data": {
      "image/png": "[encoded data removed]",
      "text/plain": [
       "<matplotlib.figure.Figure at 0x7f803c7d9dd8>"
      ]
     },
     "metadata": {},
     "output_type": "display_data"
    }
   ],
   "source": [
    "# plt.figure(figsize=(16, 7)) \n",
    "plt.plot(y_test , label='test data')\n",
    "# plt.plot(sup, label='Training data')\n",
    "plt.plot(tests_new, label='predict data')\n",
    "plt.ylabel('scaled close')\n",
    "plt.xlabel('number of data points')\n",
    "plt.legend()\n",
    "plt.show()"
   ]
  },
  {
   "cell_type": "code",
   "execution_count": null,
   "metadata": {
    "collapsed": true
   },
   "outputs": [],
   "source": []
  },
  {
   "cell_type": "code",
   "execution_count": null,
   "metadata": {
    "collapsed": true
   },
   "outputs": [],
   "source": []
  },
  {
   "cell_type": "code",
   "execution_count": 38,
   "metadata": {
    "collapsed": true
   },
   "outputs": [],
   "source": [
    "session.close()"
   ]
  }
 ],
 "metadata": {
  "kernelspec": {
   "display_name": "Python 3",
   "language": "python",
   "name": "python3"
  },
  "language_info": {
   "codemirror_mode": {
    "name": "ipython",
    "version": 3
   },
   "file_extension": ".py",
   "mimetype": "text/x-python",
   "name": "python",
   "nbconvert_exporter": "python",
   "pygments_lexer": "ipython3",
   "version": "3.5.4"
  }
 },
 "nbformat": 4,
 "nbformat_minor": 2
}
